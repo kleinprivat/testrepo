{
 "cells": [
  {
   "cell_type": "code",
   "execution_count": null,
   "metadata": {
    "id": "xgFMR83o9nCW"
   },
   "outputs": [],
   "source": [
    "import matplotlib.pyplot as plt\n",
    "import numpy as np\n",
    "\n",
    "# Beispiel-Daten\n",
    "t = np.linspace(0, 10, 100)\n",
    "y = np.sin(t)\n",
    "\n",
    "# Diagramm erstellen\n",
    "plt.figure(figsize=(8, 5))\n",
    "plt.plot(t, y, label='sin(t)', color='b')\n",
    "plt.xlabel('Zeit (s)')\n",
    "plt.ylabel('Amplitude')\n",
    "plt.title('Einfaches Diagramm mit Matplotlib')\n",
    "plt.legend()\n",
    "plt.grid()\n",
    "plt.show()"
   ]
  }
 ],
 "metadata": {
  "colab": {
   "provenance": []
  },
  "kernelspec": {
   "display_name": "Python [conda env:base] *",
   "language": "python",
   "name": "conda-base-py"
  },
  "language_info": {
   "codemirror_mode": {
    "name": "ipython",
    "version": 3
   },
   "file_extension": ".py",
   "mimetype": "text/x-python",
   "name": "python",
   "nbconvert_exporter": "python",
   "pygments_lexer": "ipython3",
   "version": "3.12.7"
  }
 },
 "nbformat": 4,
 "nbformat_minor": 4
}
